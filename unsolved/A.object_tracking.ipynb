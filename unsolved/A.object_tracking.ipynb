{
 "cells": [
  {
   "cell_type": "markdown",
   "metadata": {},
   "source": [
    "# CM2000 Lab 2.A. Object Tracking"
   ]
  },
  {
   "cell_type": "markdown",
   "metadata": {},
   "source": [
    "This code was adapted from OpenCV tutorials.\n",
    "\n",
    "<a target=\"_blank\" href=\"https://learnopencv.com\">View on learnopencv.com</a>"
   ]
  },
  {
   "cell_type": "markdown",
   "metadata": {},
   "source": [
    "## Imports"
   ]
  },
  {
   "cell_type": "code",
   "execution_count": 1,
   "metadata": {},
   "outputs": [],
   "source": [
    "import cv2\n",
    "import numpy as np\n",
    "import matplotlib.pyplot as plt\n",
    "from tools import *"
   ]
  },
  {
   "cell_type": "markdown",
   "metadata": {},
   "source": [
    "## Task 1: Object detection for a video file"
   ]
  },
  {
   "cell_type": "markdown",
   "metadata": {},
   "source": [
    "### 1.1. Code asssignment"
   ]
  },
  {
   "cell_type": "markdown",
   "metadata": {},
   "source": [
    "Run object detection tracking for a .mp4 file. Use snatch.mp4 as an example and track the barbell path by defining the correct region of interest (ROI)."
   ]
  },
  {
   "cell_type": "markdown",
   "metadata": {},
   "source": [
    "The code below executes object tracking for a video file in .mp4 format defined by video_path variable. Pick the .mp4 file and run the code. A window will pop up with the first frame of the video. You should select the region of interest by drawing a rectangle from the top left to the bottom right corner. You can re-draw it multiple times. When happy with the result, press Enter and the tracking will start. When finished, press any key on your keyboard to close the window and release the resources to be able to run the code again, or continue running the next blocks (you need to have the video window selected on that step)."
   ]
  },
  {
   "cell_type": "code",
   "execution_count": 2,
   "metadata": {},
   "outputs": [
    {
     "name": "stdout",
     "output_type": "stream",
     "text": [
      "Select a ROI and then press SPACE or ENTER button!\n",
      "Cancel the selection process by pressing c button!\n"
     ]
    }
   ],
   "source": [
    "# Define the video file path\n",
    "video_path = './object_tracking/snatch.mp4'\n",
    "\n",
    "# Define the video capture object\n",
    "video_capture = cv2.VideoCapture(video_path)\n",
    "window_name = \"task 1\"\n",
    "cv2.namedWindow(window_name)\n",
    "\n",
    "# Get frame count\n",
    "frame_count = int(video_capture.get(cv2.CAP_PROP_FRAME_COUNT))\n",
    "\n",
    "# Read the first frame from the video\n",
    "ret, frame = video_capture.read()\n",
    "\n",
    "# Select a region of interest (ROI) to track\n",
    "bbox = cv2.selectROI(window_name, frame, False)\n",
    "\n",
    "# Initialize the tracker\n",
    "roi = frame[bbox[1]:bbox[1] + bbox[3], bbox[0]:bbox[0] + bbox[2]]\n",
    "roi_hsv = cv2.cvtColor(roi, cv2.COLOR_BGR2HSV)\n",
    "mask = cv2.inRange(roi_hsv, np.array((0., 60.,32.)), np.array((180.,255.,255.)))\n",
    "roi_hist = cv2.calcHist([roi_hsv], [0], mask, [180], [0, 180])\n",
    "cv2.normalize(roi_hist, roi_hist, 0, 255, cv2.NORM_MINMAX)\n",
    "\n",
    "# Set termination criteria for the tracker\n",
    "term_crit = (cv2.TERM_CRITERIA_EPS | cv2.TERM_CRITERIA_COUNT, 10, 1)\n",
    "\n",
    "while video_capture.isOpened():\n",
    "    # Read a new frame from the video\n",
    "    ret, frame = video_capture.read()\n",
    "\n",
    "    if not ret:\n",
    "        break\n",
    "\n",
    "    # Convert the frame to HSV color space\n",
    "    frame_hsv = cv2.cvtColor(frame, cv2.COLOR_BGR2HSV)\n",
    "\n",
    "    # Calculate the back projection of the frame\n",
    "    frame_backproj = cv2.calcBackProject([frame_hsv], [0], roi_hist, [0, 180], 1)\n",
    "\n",
    "    # Apply CAMShift to get the new bounding box\n",
    "    ret, bbox = cv2.CamShift(frame_backproj, bbox, term_crit)\n",
    "\n",
    "    # Draw the new bounding box on the frame\n",
    "    pts = cv2.boxPoints(ret)\n",
    "    pts = np.intp(pts)\n",
    "    cv2.polylines(frame, [pts], True, (0, 255, 0), 2)\n",
    "\n",
    "    # Display the resulting frame\n",
    "    cv2.imshow(window_name, frame)\n",
    "\n",
    "    # Exit if the 'q' key is pressed\n",
    "    if cv2.waitKey(1) & 0xFF == ord('q'):\n",
    "        break\n",
    "\n",
    "# Release the video capture object and close windows\n",
    "cv2.waitKey(0)\n",
    "cv2.destroyWindow(window_name)\n",
    "cv2.waitKey(1)\n",
    "video_capture.release()"
   ]
  },
  {
   "cell_type": "markdown",
   "metadata": {},
   "source": [
    "### 1.2. Written assignment "
   ]
  },
  {
   "cell_type": "markdown",
   "metadata": {},
   "source": [
    "Change the definition of the mask and see what happens. Write a paragraph about your observations. Propose a way of making the definition of the mask more generalizable (you don't need to implement it, just describe what you would do)"
   ]
  },
  {
   "cell_type": "markdown",
   "metadata": {},
   "source": [
    "*answer here*"
   ]
  },
  {
   "cell_type": "markdown",
   "metadata": {},
   "source": [
    "## Task 2: Draw centroid"
   ]
  },
  {
   "cell_type": "markdown",
   "metadata": {},
   "source": [
    "### 2.1. Code asssignment"
   ]
  },
  {
   "cell_type": "markdown",
   "metadata": {},
   "source": [
    "Draw a circle of radius 2 and colour red marking the centroid of the region of interest in every frame. Implement the code to retrieve the coordinates of the centroid of the ROI. Then save a .gif with the drawing of the ROI and centroid. "
   ]
  },
  {
   "cell_type": "markdown",
   "metadata": {},
   "source": [
    "Do not edit the code on the block above. instead, copy the code, paste below and make the changes in order to complete the task. Save the .gif file as './object_tracking/snatch_centroid.gif'. Make sure you maintain the original colors of the video when you save the .gif file.  \n",
    "Tip: check tools.py"
   ]
  },
  {
   "cell_type": "code",
   "execution_count": null,
   "metadata": {},
   "outputs": [],
   "source": []
  },
  {
   "cell_type": "code",
   "execution_count": 9,
   "metadata": {},
   "outputs": [
    {
     "name": "stdout",
     "output_type": "stream",
     "text": [
      "./object_tracking/snatch_centroid.gif saved!\n"
     ]
    }
   ],
   "source": [
    "from tools import to_gif\n",
    "\n",
    "to_gif(frames,int(1000/frame_rate), './object_tracking/snatch_centroid.gif')"
   ]
  },
  {
   "cell_type": "markdown",
   "metadata": {},
   "source": [
    "## Task 3: Centroid path"
   ]
  },
  {
   "cell_type": "markdown",
   "metadata": {},
   "source": [
    "### 3.1. Code asssignment"
   ]
  },
  {
   "cell_type": "markdown",
   "metadata": {},
   "source": [
    "Plot x and y components of the centroid path."
   ]
  },
  {
   "cell_type": "code",
   "execution_count": null,
   "metadata": {},
   "outputs": [],
   "source": []
  },
  {
   "cell_type": "markdown",
   "metadata": {},
   "source": [
    "### 3.2. Written assignment"
   ]
  },
  {
   "cell_type": "markdown",
   "metadata": {},
   "source": [
    "Write a short paragraph analysing and discussing the result of the centroid tracking. Then, write a paragraph discussing possible use cases of this algorithm in this or other sports."
   ]
  },
  {
   "cell_type": "markdown",
   "metadata": {},
   "source": [
    "*answer here*"
   ]
  },
  {
   "cell_type": "markdown",
   "metadata": {},
   "source": [
    "## Task 4: Draw contours\n"
   ]
  },
  {
   "cell_type": "markdown",
   "metadata": {},
   "source": [
    "### 4.1. Code assignment"
   ]
  },
  {
   "cell_type": "markdown",
   "metadata": {},
   "source": [
    "\n",
    "Implement the code to find and draw contours within the region of interest. Tip: Look up cv2.findContour and try different thresholds. You can also tweak around with padding the region of the ROI where you want to find the contours.\n",
    "Save a .gif with the drawing of the ROI and contours, without the centroid."
   ]
  },
  {
   "cell_type": "markdown",
   "metadata": {},
   "source": [
    "Copy the code from above, paste below and make the changes in order to complete the task. Save the .gif file as './object_tracking/snatch_contours.gif'. Maintain the original colors of the video."
   ]
  },
  {
   "cell_type": "code",
   "execution_count": null,
   "metadata": {},
   "outputs": [],
   "source": []
  },
  {
   "cell_type": "markdown",
   "metadata": {},
   "source": [
    "### 4.2 Written assignment"
   ]
  },
  {
   "cell_type": "markdown",
   "metadata": {},
   "source": [
    "Analyse and compare the results that you get from centroid and contour tracking. Which one was more robust? Which one would you use to track the barbell? Write a short paragraph."
   ]
  },
  {
   "cell_type": "markdown",
   "metadata": {},
   "source": [
    "*answer here*"
   ]
  },
  {
   "cell_type": "markdown",
   "metadata": {},
   "source": [
    "## Bonus Task 1\n"
   ]
  },
  {
   "cell_type": "markdown",
   "metadata": {},
   "source": [
    "\n",
    "(For you who like sports and programming)\n",
    "\n",
    "Use kalmanFilter.py (or implement your own Kalman filter) in the centroid tracking. Change the initialization parameters. Explain why you chose certain parameters and how they change the results. Draw on the video both the original centroid (red circle) and the kalman filtered prediction (green circle). You don't need to draw the barbell path. Save a .gif file to ./object_tracking/snatch_kalman.gif' with the result. Plot a chart with the x and y the coordinates of the centroid with and without the filter, analyse and discuss your results."
   ]
  },
  {
   "cell_type": "code",
   "execution_count": 7,
   "metadata": {},
   "outputs": [],
   "source": [
    "from kalmanFilter import KalmanFilter"
   ]
  },
  {
   "cell_type": "code",
   "execution_count": null,
   "metadata": {},
   "outputs": [],
   "source": []
  },
  {
   "cell_type": "markdown",
   "metadata": {},
   "source": [
    "## Bonus Task 2"
   ]
  },
  {
   "cell_type": "markdown",
   "metadata": {},
   "source": [
    "\n",
    "(For you who like sports and biomechanics)\n",
    "\n",
    "\n",
    "Draw the barbell path of the centroid on the video. Save a .gif file to './object_tracking/snatch_path.gif' showing the barbell paths. Then, compute the vertical and horizontal velocities of the barbell in m/s. Plot the x and y velocities. Find and plot the frame where the velocity was maximum when the athlete is pulling the barbell up. If you did the previous bonus task, compare the velocity computed with and without the Kalman filter."
   ]
  },
  {
   "cell_type": "markdown",
   "metadata": {},
   "source": [
    "Tip: Google the standard size of a weightlifting plate to convert pixels to meters. Extra tip: [pixels/frames] * [m/pixels] * [frames/s] = [m/s]"
   ]
  },
  {
   "cell_type": "code",
   "execution_count": 26,
   "metadata": {},
   "outputs": [],
   "source": [
    "from scipy.signal import find_peaks"
   ]
  },
  {
   "cell_type": "markdown",
   "metadata": {},
   "source": [
    "## Bonus task 3\n"
   ]
  },
  {
   "cell_type": "markdown",
   "metadata": {},
   "source": [
    "\n",
    "(For you who like sports)\n",
    "\n",
    "Record YOUR OWN sports-related video and perform object tracking. Analyse the results and discuss how they would be used in real life."
   ]
  },
  {
   "cell_type": "code",
   "execution_count": null,
   "metadata": {},
   "outputs": [],
   "source": []
  }
 ],
 "metadata": {
  "kernelspec": {
   "display_name": "cm2000-video-lab",
   "language": "python",
   "name": "python3"
  },
  "language_info": {
   "codemirror_mode": {
    "name": "ipython",
    "version": 3
   },
   "file_extension": ".py",
   "mimetype": "text/x-python",
   "name": "python",
   "nbconvert_exporter": "python",
   "pygments_lexer": "ipython3",
   "version": "3.10.4"
  },
  "orig_nbformat": 4
 },
 "nbformat": 4,
 "nbformat_minor": 2
}
